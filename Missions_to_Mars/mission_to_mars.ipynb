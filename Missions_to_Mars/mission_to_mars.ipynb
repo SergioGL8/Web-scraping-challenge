{
 "metadata": {
  "language_info": {
   "codemirror_mode": {
    "name": "ipython",
    "version": 3
   },
   "file_extension": ".py",
   "mimetype": "text/x-python",
   "name": "python",
   "nbconvert_exporter": "python",
   "pygments_lexer": "ipython3",
   "version": "3.7.6-final"
  },
  "orig_nbformat": 2,
  "kernelspec": {
   "name": "Python 3.7.6 64-bit ('base': conda)",
   "display_name": "Python 3.7.6 64-bit ('base': conda)",
   "metadata": {
    "interpreter": {
     "hash": "4b73675c4a805bc9f16e2a00060b3eed1b72f4592486cdaf60047931cfc10349"
    }
   }
  }
 },
 "nbformat": 4,
 "nbformat_minor": 2,
 "cells": [
  {
   "cell_type": "code",
   "execution_count": 1,
   "metadata": {},
   "outputs": [],
   "source": [
    "# Dependencies and Setup\n",
    "from bs4 import BeautifulSoup\n",
    "from splinter import Browser\n",
    "import pandas as pd\n",
    "import re\n",
    "import time "
   ]
  },
  {
   "cell_type": "code",
   "execution_count": 2,
   "metadata": {},
   "outputs": [],
   "source": [
    "# Capture path to Chrome Driver & Initialize browser\n",
    "executable_path = {\"executable_path\": \"chromedriver.exe\"}\n",
    "browser = Browser(\"chrome\", **executable_path, headless=False)\n",
    "# Page to Visit\n",
    "url = \"https://mars.nasa.gov/news/\"\n",
    "browser.visit(url)\n"
   ]
  },
  {
   "cell_type": "code",
   "execution_count": 3,
   "metadata": {},
   "outputs": [],
   "source": [
    "#using bs to write it into html\n",
    "html = browser.html\n",
    "soup = BeautifulSoup(html,\"html.parser\")"
   ]
  },
  {
   "cell_type": "code",
   "execution_count": 4,
   "metadata": {},
   "outputs": [
    {
     "output_type": "stream",
     "name": "stdout",
     "text": [
      "NASA's Perseverance Rover Bringing 3D-Printed Metal Parts to Mars\nFor hobbyists and makers, 3D printing expands creative possibilities; for specialized engineers, it's also key to next-generation spacecraft design.\n"
     ]
    }
   ],
   "source": [
    "# Visit the NASA Mars News Site\n",
    "slide = soup.select_one(\"ul.item_list li.slide\")\n",
    "news_title = slide.find('div', class_=\"content_title\").get_text()\n",
    "print(news_title)\n",
    "news_paragraph = soup.find('div', class_=\"article_teaser_body\").get_text()\n",
    "print(news_paragraph)\n"
   ]
  },
  {
   "cell_type": "code",
   "execution_count": 5,
   "metadata": {},
   "outputs": [],
   "source": [
    "# Visit the NASA JPL (Jet Propulsion Laboratory) Site\n",
    "#executable_path = {\"executable_path\": \"chromedriver\"}\n",
    "#browser = Browser(\"chrome\", **executable_path)\n",
    "url2 = \"https://www.jpl.nasa.gov/spaceimages/?search=&category=Mars\"\n",
    "browser.visit(url2)"
   ]
  },
  {
   "cell_type": "code",
   "execution_count": 6,
   "metadata": {},
   "outputs": [],
   "source": [
    "# Ask Splinter to Go to Site and Click Button with Class Name full_image\n",
    "# <button class=\"full_image\">Full Image</button>\n",
    "full_image_button = browser.find_by_id(\"full_image\")\n",
    "full_image_button.click()"
   ]
  },
  {
   "cell_type": "code",
   "execution_count": 7,
   "metadata": {},
   "outputs": [],
   "source": [
    "# Find \"More Info\" Button and Click It\n",
    "browser.is_element_present_by_text(\"more info\", wait_time=1)\n",
    "more_info_element = browser.find_link_by_partial_text(\"more info\")\n",
    "more_info_element.click()"
   ]
  },
  {
   "cell_type": "code",
   "execution_count": 8,
   "metadata": {},
   "outputs": [],
   "source": [
    "# Parse Results HTML with BeautifulSoup\n",
    "html = browser.html\n",
    "image_soup = BeautifulSoup(html, \"html.parser\")"
   ]
  },
  {
   "cell_type": "code",
   "execution_count": 11,
   "metadata": {},
   "outputs": [
    {
     "output_type": "stream",
     "name": "stdout",
     "text": [
      "https://www.jpl.nasa.gov/spaceimages/images/largesize/PIA11777_hires.jpg\n"
     ]
    }
   ],
   "source": [
    "img_url = image_soup.select_one(\"figure.lede a img\").get(\"src\")\n",
    "\n",
    "# Use Base URL to Create Absolute URL\n",
    "img_url = f\"https://www.jpl.nasa.gov{img_url}\"\n",
    "print(img_url)"
   ]
  },
  {
   "cell_type": "code",
   "execution_count": 10,
   "metadata": {},
   "outputs": [],
   "source": [
    "#Mars weather's latest tweet from the website\n",
    "executable_path = {\"executable_path\": \"chromedriver.exe\"}\n",
    "browser = Browser(\"chrome\", **executable_path, headless=False)\n",
    "url_weather = \"https://twitter.com/marswxreport?lang=en\"\n",
    "browser.visit(url_weather)\n"
   ]
  },
  {
   "cell_type": "code",
   "execution_count": null,
   "metadata": {},
   "outputs": [],
   "source": [
    "# Parse Results HTML with BeautifulSoup\n",
    "while True:\n",
    "    if not browser.is_element_not_present_by_tag('article'):\n",
    "        break\n",
    "twitter_html = browser.html\n",
    "soup = BeautifulSoup(twitter_html, 'html.parser')\n",
    "tweets = soup.find('article')"
   ]
  },
  {
   "cell_type": "code",
   "execution_count": null,
   "metadata": {},
   "outputs": [],
   "source": [
    "# Find a Tweet with the data-name `Mars Weather`\n",
    "for tweet in tweets:\n",
    "    spans = tweet.find_all(\"span\")\n",
    "    mars_weather = spans[4].get_text()\n",
    "\n",
    "mars_weather"
   ]
  },
  {
   "cell_type": "code",
   "execution_count": null,
   "metadata": {},
   "outputs": [],
   "source": [
    "# Mars Facts\n",
    "url_facts = \"https://space-facts.com/mars/\"\n",
    "table = pd.read_html(url_facts)\n",
    "table[0]"
   ]
  },
  {
   "cell_type": "code",
   "execution_count": null,
   "metadata": {},
   "outputs": [],
   "source": [
    "df_mars_facts = table[0]\n",
    "df_mars_facts.columns = [\"Parameters\", \"Values\"]\n",
    "df_mars_facts.set_index([\"Parameters\"])"
   ]
  },
  {
   "cell_type": "code",
   "execution_count": null,
   "metadata": {},
   "outputs": [],
   "source": [
    "mars_html_table = df_mars_facts.to_html()\n",
    "mars_html_table = mars_html_table.replace(\"\\n\", \"\")\n",
    "mars_html_table"
   ]
  },
  {
   "cell_type": "code",
   "execution_count": null,
   "metadata": {},
   "outputs": [],
   "source": [
    "# Mars Hemisphere\n",
    "hemispheres = ['Cerberus Hemisphere Enhanced','Schiaparelli Hemisphere Enhanced','Syrtis Major Hemisphere Enhanced','Valles Marineris Hemisphere Enhanced']\n",
    "hemispheres_url = []\n"
   ]
  },
  {
   "cell_type": "code",
   "execution_count": null,
   "metadata": {},
   "outputs": [],
   "source": [
    "# Loop through the four tags and load the data to the dictionary\n",
    "for info in hemispheres: \n",
    "    url = \"https://astrogeology.usgs.gov/search/results?q=hemisphere+enhanced&k1=target&v1=Mars\"\n",
    "    browser.visit(url)\n",
    "    browser.is_element_present_by_text(info, wait_time=1)\n",
    "    more_info = browser.find_link_by_partial_text(info)\n",
    "    more_info.click()\n",
    "    full_image = browser.find_by_id('wide-image-toggle')\n",
    "    full_image.click()\n",
    "    soup = BeautifulSoup(browser.html, 'html.parser')\n",
    "    wide_image = soup.body.find('img', class_='wide-image')\n",
    "    image_src = wide_image['src']\n",
    "    image_url = f\"https://astrogeology.usgs.gov{image_src}\"\n",
    "    hemispheres_url.append(image_url)\n"
   ]
  },
  {
   "cell_type": "code",
   "execution_count": null,
   "metadata": {},
   "outputs": [],
   "source": [
    "hemisphere_image_urls = [\n",
    "    {\"title\": \"Valles Marineris Hemisphere\", \"img_url\": hemispheres_url[0]},\n",
    "    {\"title\": \"Cerberus Hemisphere\", \"img_url\":hemispheres_url[1]},\n",
    "    {\"title\": \"Schiaparelli Hemisphere\", \"img_url\": hemispheres_url[2]},\n",
    "    {\"title\": \"Syrtis Major Hemisphere\", \"img_url\": hemispheres_url[3]},]\n",
    "\n",
    "hemisphere_image_urls"
   ]
  },
  {
   "cell_type": "code",
   "execution_count": null,
   "metadata": {},
   "outputs": [],
   "source": [
    "print(mars_hemis)"
   ]
  },
  {
   "cell_type": "code",
   "execution_count": null,
   "metadata": {},
   "outputs": [],
   "source": []
  }
 ]
}